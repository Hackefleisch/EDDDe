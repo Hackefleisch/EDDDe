{
 "cells": [
  {
   "cell_type": "markdown",
   "id": "f0028233",
   "metadata": {},
   "source": [
    "# Benchmark\n",
    "\n",
    "I have several ideas to test for benchmarking and I will explore them here.\n",
    "\n",
    "## Qualitative Benchmark\n",
    "\n",
    "**Goal** Collect evidence that electron density derived descriptors improve upon molecular fingerprints\n",
    "\n",
    "**Hypothesis** Fingerprints rely on atom types, but EDs encode function. Hence, similar functioning molecules should receive a more similar fingerprint."
   ]
  }
 ],
 "metadata": {
  "language_info": {
   "name": "python"
  }
 },
 "nbformat": 4,
 "nbformat_minor": 5
}
